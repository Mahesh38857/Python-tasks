{
 "cells": [
  {
   "cell_type": "code",
   "execution_count": 1,
   "id": "c4c5cd05-7cdb-4117-b487-63d88dc86ece",
   "metadata": {},
   "outputs": [
    {
     "data": {
      "text/plain": [
       "18"
      ]
     },
     "execution_count": 1,
     "metadata": {},
     "output_type": "execute_result"
    }
   ],
   "source": [
    "9+9"
   ]
  },
  {
   "cell_type": "code",
   "execution_count": 3,
   "id": "182f48bc-9c44-4cf7-83da-8f730a07964b",
   "metadata": {},
   "outputs": [
    {
     "data": {
      "text/plain": [
       "int"
      ]
     },
     "execution_count": 3,
     "metadata": {},
     "output_type": "execute_result"
    }
   ],
   "source": [
    "a=5\n",
    "type(a)"
   ]
  },
  {
   "cell_type": "code",
   "execution_count": 4,
   "id": "09159476-ebec-4c51-b6a3-639ffd87bba9",
   "metadata": {},
   "outputs": [
    {
     "data": {
      "text/plain": [
       "float"
      ]
     },
     "execution_count": 4,
     "metadata": {},
     "output_type": "execute_result"
    }
   ],
   "source": [
    "b=5.0\n",
    "type(b)"
   ]
  },
  {
   "cell_type": "code",
   "execution_count": 5,
   "id": "e93a5b6c-48f3-41d2-bd21-db9893cb6bcd",
   "metadata": {},
   "outputs": [
    {
     "data": {
      "text/plain": [
       "str"
      ]
     },
     "execution_count": 5,
     "metadata": {},
     "output_type": "execute_result"
    }
   ],
   "source": [
    "c='nit'\n",
    "type (c)"
   ]
  },
  {
   "cell_type": "code",
   "execution_count": 6,
   "id": "678e0501-f58e-4c4a-ac53-d269e872a5a7",
   "metadata": {},
   "outputs": [
    {
     "data": {
      "text/plain": [
       "[]"
      ]
     },
     "execution_count": 6,
     "metadata": {},
     "output_type": "execute_result"
    }
   ],
   "source": [
    "l=[]\n",
    "l"
   ]
  },
  {
   "cell_type": "code",
   "execution_count": 7,
   "id": "48e6310a-4b4e-45bc-a684-0a128ed6c9e2",
   "metadata": {},
   "outputs": [
    {
     "data": {
      "text/plain": [
       "list"
      ]
     },
     "execution_count": 7,
     "metadata": {},
     "output_type": "execute_result"
    }
   ],
   "source": [
    "type(l)"
   ]
  },
  {
   "cell_type": "code",
   "execution_count": 8,
   "id": "0f52a96f-1076-4e7e-8838-a8fbe78ad435",
   "metadata": {},
   "outputs": [],
   "source": [
    "l.append(10)\n",
    "l.append(20)"
   ]
  },
  {
   "cell_type": "code",
   "execution_count": 9,
   "id": "43274521-abb7-4f56-ab7f-4299fd4edc57",
   "metadata": {},
   "outputs": [
    {
     "data": {
      "text/plain": [
       "[10, 20]"
      ]
     },
     "execution_count": 9,
     "metadata": {},
     "output_type": "execute_result"
    }
   ],
   "source": [
    "l"
   ]
  },
  {
   "cell_type": "code",
   "execution_count": 10,
   "id": "88a452c7-f1ff-4594-95d4-3ec0f35e9f38",
   "metadata": {},
   "outputs": [],
   "source": [
    "l.append (30)\n",
    "l.append (40)"
   ]
  },
  {
   "cell_type": "code",
   "execution_count": 11,
   "id": "dd2ab97b-ccd4-46a6-91e5-ce89d0743943",
   "metadata": {},
   "outputs": [
    {
     "data": {
      "text/plain": [
       "[10, 20, 30, 40]"
      ]
     },
     "execution_count": 11,
     "metadata": {},
     "output_type": "execute_result"
    }
   ],
   "source": [
    "l"
   ]
  },
  {
   "cell_type": "markdown",
   "id": "c49606fc-3eed-46d5-a1d9-cdf7f0a1c50d",
   "metadata": {},
   "source": [
    "#Duplicate is allowed\n"
   ]
  },
  {
   "cell_type": "code",
   "execution_count": 12,
   "id": "64daab2e-8cf1-4704-ad66-4f8e3877d7e1",
   "metadata": {},
   "outputs": [
    {
     "data": {
      "text/plain": [
       "4"
      ]
     },
     "execution_count": 12,
     "metadata": {},
     "output_type": "execute_result"
    }
   ],
   "source": [
    "len(l)"
   ]
  },
  {
   "cell_type": "code",
   "execution_count": 13,
   "id": "e9e4cfbf-4f75-4119-975e-db6a5577b17f",
   "metadata": {},
   "outputs": [
    {
     "data": {
      "text/plain": [
       "[10, 20, 30, 40]"
      ]
     },
     "execution_count": 13,
     "metadata": {},
     "output_type": "execute_result"
    }
   ],
   "source": [
    "l"
   ]
  },
  {
   "cell_type": "code",
   "execution_count": 14,
   "id": "91a59666-862c-4af8-8b98-686f094c2ed3",
   "metadata": {},
   "outputs": [],
   "source": [
    "l10=[]"
   ]
  },
  {
   "cell_type": "code",
   "execution_count": 18,
   "id": "c0322319-960b-4d92-96c6-b822db641fb8",
   "metadata": {},
   "outputs": [],
   "source": [
    "l10=l.copy()"
   ]
  },
  {
   "cell_type": "code",
   "execution_count": 16,
   "id": "4f84609d-8a92-4fb2-84b7-3ecc36e91786",
   "metadata": {},
   "outputs": [
    {
     "name": "stdout",
     "output_type": "stream",
     "text": [
      "[10, 20, 30, 40]\n",
      "<built-in method copy of list object at 0x0000025DBF0F0E40>\n"
     ]
    }
   ],
   "source": [
    "print(l)\n",
    "print(l10)"
   ]
  },
  {
   "cell_type": "code",
   "execution_count": 24,
   "id": "7fcf3728-19ba-42ff-afac-b966eb5d23c0",
   "metadata": {},
   "outputs": [
    {
     "data": {
      "text/plain": [
       "[]"
      ]
     },
     "execution_count": 24,
     "metadata": {},
     "output_type": "execute_result"
    }
   ],
   "source": [
    "l9=[]\n",
    "l9"
   ]
  },
  {
   "cell_type": "code",
   "execution_count": 16,
   "id": "45dad540-ed99-49c7-95cc-a1d332f30175",
   "metadata": {},
   "outputs": [
    {
     "data": {
      "text/plain": [
       "int"
      ]
     },
     "execution_count": 16,
     "metadata": {},
     "output_type": "execute_result"
    }
   ],
   "source": [
    "type(19)\n",
    "          "
   ]
  },
  {
   "cell_type": "markdown",
   "id": "6f80d9ba-e664-404a-9a57-c490d21fd563",
   "metadata": {},
   "source": []
  },
  {
   "cell_type": "code",
   "execution_count": null,
   "id": "01c1226c-4d91-48c2-9d70-25beb83d27a3",
   "metadata": {},
   "outputs": [],
   "source": []
  },
  {
   "cell_type": "markdown",
   "id": "983be3c3-6a72-4a1b-a2ba-f0eb86c32412",
   "metadata": {},
   "source": [
    "20 May practice"
   ]
  },
  {
   "cell_type": "code",
   "execution_count": 24,
   "id": "2b6d2d1b-a387-40e2-9c44-0de2b8aa6e72",
   "metadata": {},
   "outputs": [
    {
     "data": {
      "text/plain": [
       "[8, 9, 7, 5, 9, 0, 2, 6, 7, 9]"
      ]
     },
     "execution_count": 24,
     "metadata": {},
     "output_type": "execute_result"
    }
   ],
   "source": [
    "m=[8,9,7,5,9,0,2,6,7,9]\n",
    "m"
   ]
  },
  {
   "cell_type": "code",
   "execution_count": 26,
   "id": "4c2b9f86-af3c-4374-be27-19eb5434b439",
   "metadata": {},
   "outputs": [],
   "source": [
    "m.append (2)"
   ]
  },
  {
   "cell_type": "code",
   "execution_count": 27,
   "id": "f89e77ac-2f6b-4cf1-a0c1-254aae6bfcf6",
   "metadata": {},
   "outputs": [],
   "source": [
    "m.append (8)\n",
    "m.append (4)\n",
    "m.append (6)\n"
   ]
  },
  {
   "cell_type": "code",
   "execution_count": 28,
   "id": "483cebb9-da20-4567-b9ab-1685dc6e0c46",
   "metadata": {},
   "outputs": [
    {
     "name": "stdout",
     "output_type": "stream",
     "text": [
      "[8, 9, 7, 5, 9, 0, 2, 6, 7, 9, 2, 8, 4, 6]\n"
     ]
    }
   ],
   "source": [
    "print(m)"
   ]
  },
  {
   "cell_type": "code",
   "execution_count": 29,
   "id": "e4f3504d-bcf0-4bb6-9c2d-da3e55949717",
   "metadata": {},
   "outputs": [],
   "source": [
    "m.extend ([4,6])"
   ]
  },
  {
   "cell_type": "code",
   "execution_count": 30,
   "id": "2b13651f-8c91-4a83-82cd-72e0d28699f8",
   "metadata": {},
   "outputs": [
    {
     "data": {
      "text/plain": [
       "[8, 9, 7, 5, 9, 0, 2, 6, 7, 9, 2, 8, 4, 6, 4, 6]"
      ]
     },
     "execution_count": 30,
     "metadata": {},
     "output_type": "execute_result"
    }
   ],
   "source": [
    "m"
   ]
  },
  {
   "cell_type": "code",
   "execution_count": 32,
   "id": "737ed3ff-079e-45da-944f-d5979c5de822",
   "metadata": {},
   "outputs": [],
   "source": [
    "m.extend([100])"
   ]
  },
  {
   "cell_type": "code",
   "execution_count": 33,
   "id": "d799dd56-487c-4ccf-8a2a-47924eec0da7",
   "metadata": {},
   "outputs": [
    {
     "data": {
      "text/plain": [
       "[8, 9, 7, 5, 9, 0, 2, 6, 7, 9, 2, 8, 4, 6, 4, 6, 100]"
      ]
     },
     "execution_count": 33,
     "metadata": {},
     "output_type": "execute_result"
    }
   ],
   "source": [
    "m"
   ]
  },
  {
   "cell_type": "code",
   "execution_count": 34,
   "id": "0141d9b4-aecf-41b6-b923-e8af43ad7b67",
   "metadata": {},
   "outputs": [],
   "source": [
    "m.remove(100)"
   ]
  },
  {
   "cell_type": "code",
   "execution_count": 35,
   "id": "8a087af0-17e8-4cd8-81ff-e40732523a5e",
   "metadata": {},
   "outputs": [
    {
     "data": {
      "text/plain": [
       "[8, 9, 7, 5, 9, 0, 2, 6, 7, 9, 2, 8, 4, 6, 4, 6]"
      ]
     },
     "execution_count": 35,
     "metadata": {},
     "output_type": "execute_result"
    }
   ],
   "source": [
    "m"
   ]
  },
  {
   "cell_type": "code",
   "execution_count": 37,
   "id": "9474749d-9a34-4f3d-b83a-ee2fcd232b62",
   "metadata": {},
   "outputs": [],
   "source": [
    "# remove()  selected element removes."
   ]
  },
  {
   "cell_type": "code",
   "execution_count": 39,
   "id": "69fb53dc-46b4-49a6-bf83-50d750a711fe",
   "metadata": {},
   "outputs": [],
   "source": [
    "m.insert(1,2)"
   ]
  },
  {
   "cell_type": "code",
   "execution_count": 40,
   "id": "fb09682c-c3d7-4d9c-80e9-89cdf4c88179",
   "metadata": {},
   "outputs": [
    {
     "data": {
      "text/plain": [
       "[8, 2, 9, 7, 5, 9, 0, 2, 6, 7, 9, 2, 8, 4, 6, 4, 6]"
      ]
     },
     "execution_count": 40,
     "metadata": {},
     "output_type": "execute_result"
    }
   ],
   "source": [
    "m"
   ]
  },
  {
   "cell_type": "code",
   "execution_count": 41,
   "id": "5f21e23b-78e7-410a-8393-d2743725363d",
   "metadata": {},
   "outputs": [],
   "source": [
    "m.insert(3,6)"
   ]
  },
  {
   "cell_type": "code",
   "execution_count": 42,
   "id": "9a0a3d4b-1d58-4f37-9446-79f2cdbf5522",
   "metadata": {},
   "outputs": [
    {
     "data": {
      "text/plain": [
       "[8, 2, 9, 6, 7, 5, 9, 0, 2, 6, 7, 9, 2, 8, 4, 6, 4, 6]"
      ]
     },
     "execution_count": 42,
     "metadata": {},
     "output_type": "execute_result"
    }
   ],
   "source": [
    "m"
   ]
  },
  {
   "cell_type": "code",
   "execution_count": 43,
   "id": "2a50c2c1-600e-4eee-bef6-a418d7ce02b4",
   "metadata": {},
   "outputs": [
    {
     "data": {
      "text/plain": [
       "6"
      ]
     },
     "execution_count": 43,
     "metadata": {},
     "output_type": "execute_result"
    }
   ],
   "source": [
    "m.pop()"
   ]
  },
  {
   "cell_type": "code",
   "execution_count": 44,
   "id": "4a2d9309-61db-4635-94b7-fe8f936f6744",
   "metadata": {},
   "outputs": [
    {
     "data": {
      "text/plain": [
       "[8, 2, 9, 6, 7, 5, 9, 0, 2, 6, 7, 9, 2, 8, 4, 6, 4]"
      ]
     },
     "execution_count": 44,
     "metadata": {},
     "output_type": "execute_result"
    }
   ],
   "source": [
    "m"
   ]
  },
  {
   "cell_type": "code",
   "execution_count": 45,
   "id": "40030838-4510-4878-92c6-5de3e21feb3d",
   "metadata": {},
   "outputs": [],
   "source": [
    "# pop removes the last item"
   ]
  },
  {
   "cell_type": "code",
   "execution_count": 46,
   "id": "80c05486-1a2d-4fc3-ba1a-7f806cf65e3e",
   "metadata": {},
   "outputs": [
    {
     "data": {
      "text/plain": [
       "9"
      ]
     },
     "execution_count": 46,
     "metadata": {},
     "output_type": "execute_result"
    }
   ],
   "source": [
    "m.pop(2)"
   ]
  },
  {
   "cell_type": "code",
   "execution_count": 47,
   "id": "180675bb-c91d-4d86-9ee3-7317b99cc4a9",
   "metadata": {},
   "outputs": [
    {
     "data": {
      "text/plain": [
       "[8, 2, 6, 7, 5, 9, 0, 2, 6, 7, 9, 2, 8, 4, 6, 4]"
      ]
     },
     "execution_count": 47,
     "metadata": {},
     "output_type": "execute_result"
    }
   ],
   "source": [
    "m"
   ]
  },
  {
   "cell_type": "code",
   "execution_count": 59,
   "id": "d2dcab56-3e10-492c-8daa-79e4fe4bd452",
   "metadata": {},
   "outputs": [],
   "source": [
    "# pop removes left to rigt (By indexing)"
   ]
  },
  {
   "cell_type": "code",
   "execution_count": null,
   "id": "adf1cf04-2c9e-4e51-999e-394122c62d6d",
   "metadata": {},
   "outputs": [],
   "source": []
  },
  {
   "cell_type": "code",
   "execution_count": 62,
   "id": "e37a79cb-d88b-45a1-8d4f-22b2c7a3c3b2",
   "metadata": {},
   "outputs": [
    {
     "data": {
      "text/plain": [
       "[8, 0, 1, 0, 0, 7, 1, 7, 6, 1]"
      ]
     },
     "execution_count": 62,
     "metadata": {},
     "output_type": "execute_result"
    }
   ],
   "source": [
    "n=[8,0,1,0,0,7,1,7,6,1]\n",
    "n"
   ]
  },
  {
   "cell_type": "code",
   "execution_count": 74,
   "id": "642377ea-58bb-4fde-b0f6-113e18dd9ee0",
   "metadata": {},
   "outputs": [
    {
     "data": {
      "text/plain": [
       "0"
      ]
     },
     "execution_count": 74,
     "metadata": {},
     "output_type": "execute_result"
    }
   ],
   "source": [
    "n[4]"
   ]
  },
  {
   "cell_type": "code",
   "execution_count": 75,
   "id": "f76c27b2-4ed5-4fa4-ad4d-7abeace24628",
   "metadata": {},
   "outputs": [],
   "source": [
    "#indexing"
   ]
  },
  {
   "cell_type": "code",
   "execution_count": 76,
   "id": "c1080e75-9605-47d0-adcb-e9443db30cc7",
   "metadata": {},
   "outputs": [
    {
     "data": {
      "text/plain": [
       "[8, 0, 1, 0, 0, 7, 1, 7, 6, 1]"
      ]
     },
     "execution_count": 76,
     "metadata": {},
     "output_type": "execute_result"
    }
   ],
   "source": [
    "n"
   ]
  },
  {
   "cell_type": "code",
   "execution_count": 77,
   "id": "a68299ba-a881-42ab-aaf4-05ee61175c3c",
   "metadata": {},
   "outputs": [
    {
     "data": {
      "text/plain": [
       "7"
      ]
     },
     "execution_count": 77,
     "metadata": {},
     "output_type": "execute_result"
    }
   ],
   "source": [
    "n[-3]"
   ]
  },
  {
   "cell_type": "code",
   "execution_count": 78,
   "id": "fbb83349-7f9a-4b7c-852e-393db87d051f",
   "metadata": {},
   "outputs": [
    {
     "data": {
      "text/plain": [
       "3"
      ]
     },
     "execution_count": 78,
     "metadata": {},
     "output_type": "execute_result"
    }
   ],
   "source": [
    "n.count(0)"
   ]
  },
  {
   "cell_type": "code",
   "execution_count": 79,
   "id": "4cba1bc1-aa8e-451b-8de9-40a8a50ef54a",
   "metadata": {},
   "outputs": [
    {
     "data": {
      "text/plain": [
       "3"
      ]
     },
     "execution_count": 79,
     "metadata": {},
     "output_type": "execute_result"
    }
   ],
   "source": [
    "n.count(1)"
   ]
  },
  {
   "cell_type": "code",
   "execution_count": 80,
   "id": "f00cffce-671f-488a-a2d7-94a20ef4e877",
   "metadata": {},
   "outputs": [
    {
     "data": {
      "text/plain": [
       "2"
      ]
     },
     "execution_count": 80,
     "metadata": {},
     "output_type": "execute_result"
    }
   ],
   "source": [
    "n.count(7)"
   ]
  },
  {
   "cell_type": "code",
   "execution_count": 97,
   "id": "669e4d9e-de1b-41e2-b172-64ea3bcf5199",
   "metadata": {},
   "outputs": [
    {
     "data": {
      "text/plain": [
       "[1, 6, 7, 1, 7, 0, 0, 1, 0, 8]"
      ]
     },
     "execution_count": 97,
     "metadata": {},
     "output_type": "execute_result"
    }
   ],
   "source": [
    "n"
   ]
  },
  {
   "cell_type": "code",
   "execution_count": 99,
   "id": "8cb63629-6196-4c2e-98f0-5a304a0001e0",
   "metadata": {},
   "outputs": [
    {
     "name": "stdout",
     "output_type": "stream",
     "text": [
      "Sort List (Ascending): [0, 0, 0, 1, 1, 1, 6, 7, 7, 8]\n"
     ]
    }
   ],
   "source": [
    "n.sort()\n",
    "print(\"Sort List (Ascending):\", n)"
   ]
  },
  {
   "cell_type": "code",
   "execution_count": 102,
   "id": "5df43b48-dd97-4c6e-a0b1-95432bb1d7d0",
   "metadata": {},
   "outputs": [
    {
     "name": "stdout",
     "output_type": "stream",
     "text": [
      " [8, 7, 7, 6, 1, 1, 1, 0, 0, 0]\n"
     ]
    }
   ],
   "source": [
    "n.sort(reverse=True)\n",
    "print(\"\", n)"
   ]
  },
  {
   "cell_type": "code",
   "execution_count": 89,
   "id": "8884ebbf-1807-4b49-8ef8-c4655fa04fd3",
   "metadata": {},
   "outputs": [
    {
     "name": "stdout",
     "output_type": "stream",
     "text": [
      "Sort List (Decending): [8, 0, 1, 0, 0, 7, 1, 7, 6, 1]\n"
     ]
    }
   ],
   "source": [
    "print(\"Sort List (Decending):\", n)"
   ]
  },
  {
   "cell_type": "code",
   "execution_count": null,
   "id": "5219eee7-9fa9-4097-ab9a-6a9007dc0c3d",
   "metadata": {},
   "outputs": [],
   "source": []
  },
  {
   "cell_type": "code",
   "execution_count": 92,
   "id": "a4b1ea09-787b-442b-bc80-c7356907caeb",
   "metadata": {},
   "outputs": [
    {
     "data": {
      "text/plain": [
       "[8, 0, 1, 0, 0, 7, 1, 7, 6, 1]"
      ]
     },
     "execution_count": 92,
     "metadata": {},
     "output_type": "execute_result"
    }
   ],
   "source": [
    "n"
   ]
  },
  {
   "cell_type": "code",
   "execution_count": 104,
   "id": "b828da79-d137-47bf-b611-e95ed847cdef",
   "metadata": {},
   "outputs": [],
   "source": [
    "n.reverse()"
   ]
  },
  {
   "cell_type": "code",
   "execution_count": 105,
   "id": "e92c473b-0fcb-4e92-aa82-fcc03f5c36e8",
   "metadata": {},
   "outputs": [
    {
     "data": {
      "text/plain": [
       "[0, 0, 0, 1, 1, 1, 6, 7, 7, 8]"
      ]
     },
     "execution_count": 105,
     "metadata": {},
     "output_type": "execute_result"
    }
   ],
   "source": [
    "n"
   ]
  },
  {
   "cell_type": "code",
   "execution_count": 106,
   "id": "73b1e72b-de41-4370-839d-570e249724a9",
   "metadata": {},
   "outputs": [],
   "source": [
    "# reverse function revrse the all elements"
   ]
  },
  {
   "cell_type": "code",
   "execution_count": 103,
   "id": "a3006386-7498-4a6d-ab74-addfc32ffb65",
   "metadata": {},
   "outputs": [
    {
     "data": {
      "text/plain": [
       "[8, 7, 7, 6, 1, 1, 1, 0, 0, 0]"
      ]
     },
     "execution_count": 103,
     "metadata": {},
     "output_type": "execute_result"
    }
   ],
   "source": [
    "n"
   ]
  },
  {
   "cell_type": "code",
   "execution_count": null,
   "id": "01f2db41-9184-4909-903c-ed5fab4c36fb",
   "metadata": {},
   "outputs": [],
   "source": []
  },
  {
   "cell_type": "code",
   "execution_count": 109,
   "id": "f9eaefe5-f9f4-4bd0-8424-094dc1078659",
   "metadata": {},
   "outputs": [],
   "source": [
    "# copy()"
   ]
  },
  {
   "cell_type": "code",
   "execution_count": 110,
   "id": "e8dedc1a-c3aa-48a5-84ea-bf9494a87549",
   "metadata": {},
   "outputs": [
    {
     "data": {
      "text/plain": [
       "[]"
      ]
     },
     "execution_count": 110,
     "metadata": {},
     "output_type": "execute_result"
    }
   ],
   "source": [
    "m"
   ]
  },
  {
   "cell_type": "code",
   "execution_count": 108,
   "id": "dc3b7797-be44-4f44-9859-375d7e023926",
   "metadata": {},
   "outputs": [
    {
     "data": {
      "text/plain": [
       "[0, 0, 0, 1, 1, 1, 6, 7, 7, 8]"
      ]
     },
     "execution_count": 108,
     "metadata": {},
     "output_type": "execute_result"
    }
   ],
   "source": [
    "n"
   ]
  },
  {
   "cell_type": "code",
   "execution_count": 111,
   "id": "82e7a590-b614-4475-bd36-35d359b7bfbe",
   "metadata": {},
   "outputs": [],
   "source": [
    "m=n.copy()"
   ]
  },
  {
   "cell_type": "code",
   "execution_count": 112,
   "id": "fb3db894-0b77-466a-b574-1a22dcd01bf8",
   "metadata": {},
   "outputs": [
    {
     "data": {
      "text/plain": [
       "[0, 0, 0, 1, 1, 1, 6, 7, 7, 8]"
      ]
     },
     "execution_count": 112,
     "metadata": {},
     "output_type": "execute_result"
    }
   ],
   "source": [
    "n"
   ]
  },
  {
   "cell_type": "code",
   "execution_count": 113,
   "id": "e663bd89-28b4-4376-86f6-fc42dd0a1dc5",
   "metadata": {},
   "outputs": [
    {
     "data": {
      "text/plain": [
       "[0, 0, 0, 1, 1, 1, 6, 7, 7, 8]"
      ]
     },
     "execution_count": 113,
     "metadata": {},
     "output_type": "execute_result"
    }
   ],
   "source": [
    "m"
   ]
  },
  {
   "cell_type": "code",
   "execution_count": 114,
   "id": "3f74d6a7-45e6-4c2e-aae6-ff49eee8c9ba",
   "metadata": {},
   "outputs": [],
   "source": [
    "m.reverse()"
   ]
  },
  {
   "cell_type": "code",
   "execution_count": 115,
   "id": "206f6219-12e1-489e-a4b2-be1c27f76670",
   "metadata": {},
   "outputs": [
    {
     "data": {
      "text/plain": [
       "[8, 7, 7, 6, 1, 1, 1, 0, 0, 0]"
      ]
     },
     "execution_count": 115,
     "metadata": {},
     "output_type": "execute_result"
    }
   ],
   "source": [
    "m"
   ]
  },
  {
   "cell_type": "code",
   "execution_count": 116,
   "id": "c7ce1255-8a42-422b-b0d4-a52283d90b53",
   "metadata": {},
   "outputs": [
    {
     "data": {
      "text/plain": [
       "[0, 0, 0, 1, 1, 1, 6, 7, 7, 8]"
      ]
     },
     "execution_count": 116,
     "metadata": {},
     "output_type": "execute_result"
    }
   ],
   "source": [
    "n"
   ]
  },
  {
   "cell_type": "code",
   "execution_count": 117,
   "id": "06e84124-8555-47d2-b4a8-810b174e9f37",
   "metadata": {},
   "outputs": [],
   "source": [
    "m.clear()"
   ]
  },
  {
   "cell_type": "code",
   "execution_count": 118,
   "id": "1ae13ce0-fdde-4235-aefa-e05d92025250",
   "metadata": {},
   "outputs": [
    {
     "data": {
      "text/plain": [
       "[]"
      ]
     },
     "execution_count": 118,
     "metadata": {},
     "output_type": "execute_result"
    }
   ],
   "source": [
    "m"
   ]
  },
  {
   "cell_type": "code",
   "execution_count": null,
   "id": "1da387fb-71ec-47f6-bc58-c33300f7bc06",
   "metadata": {},
   "outputs": [],
   "source": []
  }
 ],
 "metadata": {
  "kernelspec": {
   "display_name": "Python 3 (ipykernel)",
   "language": "python",
   "name": "python3"
  },
  "language_info": {
   "codemirror_mode": {
    "name": "ipython",
    "version": 3
   },
   "file_extension": ".py",
   "mimetype": "text/x-python",
   "name": "python",
   "nbconvert_exporter": "python",
   "pygments_lexer": "ipython3",
   "version": "3.12.7"
  }
 },
 "nbformat": 4,
 "nbformat_minor": 5
}
