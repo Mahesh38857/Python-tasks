{
 "cells": [
  {
   "cell_type": "markdown",
   "id": "4eaf1642-1132-49ea-a667-c784e1486868",
   "metadata": {},
   "source": [
    "## Uses of Numpy"
   ]
  },
  {
   "cell_type": "markdown",
   "id": "71cd61d1-ca83-49af-9896-abeb2e71aae1",
   "metadata": {},
   "source": [
    "### 1)Arithmatic operations\n",
    "### 2)Stastical operations\n",
    "### 3)Bitwise operations\n",
    "### 4)Copying & viewing arrays\n",
    "### 5)Stacking \n",
    "### 6)Matrix operations\n",
    "### 7)Linesr Algebra\n",
    "### 8)Broadcasting\n",
    "### 9)Mathematical operations \n",
    "### 10)Searching,sorting & counting"
   ]
  },
  {
   "cell_type": "code",
   "execution_count": null,
   "id": "59b84f28-c4cb-4bee-abde-ab588c0035b1",
   "metadata": {},
   "outputs": [],
   "source": []
  },
  {
   "cell_type": "markdown",
   "id": "18cf6bee-e143-4a62-8e49-a80df7ef7431",
   "metadata": {},
   "source": [
    "# 1.Array Cration Functions"
   ]
  },
  {
   "cell_type": "code",
   "execution_count": 39,
   "id": "b24e05f3-47cc-414a-8f44-8de661e046ce",
   "metadata": {},
   "outputs": [],
   "source": [
    "import numpy as np"
   ]
  },
  {
   "cell_type": "code",
   "execution_count": 40,
   "id": "e774177a-69ad-478d-9bb7-3798815740b0",
   "metadata": {},
   "outputs": [
    {
     "name": "stdout",
     "output_type": "stream",
     "text": [
      "Array a: [1 2 3]\n"
     ]
    }
   ],
   "source": [
    "# Create an array from a list\n",
    "a = np.array([1, 2, 3])\n",
    "print(\"Array a:\", a)"
   ]
  },
  {
   "cell_type": "code",
   "execution_count": 41,
   "id": "19ec4a29-e913-4c56-a52c-76d61bc0de7b",
   "metadata": {},
   "outputs": [
    {
     "name": "stdout",
     "output_type": "stream",
     "text": [
      "Array b: [0 2 4 6 8]\n"
     ]
    }
   ],
   "source": [
    "b = np.arange(0,10,2)\n",
    "print(\"Array b:\",b)"
   ]
  },
  {
   "cell_type": "code",
   "execution_count": 42,
   "id": "4cffaa9d-ed23-43d0-aa00-073a64edc691",
   "metadata": {},
   "outputs": [
    {
     "name": "stdout",
     "output_type": "stream",
     "text": [
      "Array c: [0.   0.25 0.5  0.75 1.  ]\n"
     ]
    }
   ],
   "source": [
    "c = np.linspace(0,1,5)\n",
    "print(\"Array c:\",c)"
   ]
  },
  {
   "cell_type": "code",
   "execution_count": 43,
   "id": "b76cca55-a1a3-4b44-ab4f-5be30aac7478",
   "metadata": {},
   "outputs": [
    {
     "name": "stdout",
     "output_type": "stream",
     "text": [
      "Array d:\n",
      " [[0. 0. 0.]\n",
      " [0. 0. 0.]]\n"
     ]
    }
   ],
   "source": [
    "d = np.zeros((2,3))\n",
    "print(\"Array d:\\n\",d)"
   ]
  },
  {
   "cell_type": "code",
   "execution_count": 44,
   "id": "785fc1d3-0636-4841-b816-664c206c09fb",
   "metadata": {},
   "outputs": [
    {
     "name": "stdout",
     "output_type": "stream",
     "text": [
      "Array e:\n",
      " [[1. 1.]\n",
      " [1. 1.]\n",
      " [1. 1.]]\n"
     ]
    }
   ],
   "source": [
    "# Create an array filled with ones\n",
    "e = np.ones((3, 2))  # 3x2 array of ones\n",
    "print(\"Array e:\\n\", e)"
   ]
  },
  {
   "cell_type": "code",
   "execution_count": 45,
   "id": "b614bc3b-497a-4ad7-8e9b-7942e81ace1d",
   "metadata": {},
   "outputs": [
    {
     "name": "stdout",
     "output_type": "stream",
     "text": [
      "Identify matrix f:\n",
      " [[1. 0. 0. 0.]\n",
      " [0. 1. 0. 0.]\n",
      " [0. 0. 1. 0.]\n",
      " [0. 0. 0. 1.]]\n"
     ]
    }
   ],
   "source": [
    " f = np.eye(4)\n",
    "print(\"Identify matrix f:\\n\",f)\n",
    "            "
   ]
  },
  {
   "cell_type": "markdown",
   "id": "0f008921-3d96-4b98-b832-d4059f65955f",
   "metadata": {},
   "source": [
    "# 2.Array Manipulation Functions"
   ]
  },
  {
   "cell_type": "code",
   "execution_count": 46,
   "id": "feb75835-3c0c-4b07-befd-7abcac99b8d2",
   "metadata": {},
   "outputs": [
    {
     "name": "stdout",
     "output_type": "stream",
     "text": [
      "Reshaped array: [[1 2 3]]\n"
     ]
    }
   ],
   "source": [
    "a1 = np.array([1,2,3])\n",
    "reshaped = np.reshape(a1,(1,3))\n",
    "print(\"Reshaped array:\",reshaped)"
   ]
  },
  {
   "cell_type": "code",
   "execution_count": 47,
   "id": "c4c6fbac-5eac-4037-a494-ae330c1a5f90",
   "metadata": {},
   "outputs": [
    {
     "name": "stdout",
     "output_type": "stream",
     "text": [
      "Flattend array: [1 2 3 4]\n"
     ]
    }
   ],
   "source": [
    "# Flatten an array\n",
    "f1 = np.array([[1,2],[3,4]])\n",
    "flattend = np.ravel(f1)\n",
    "print(\"Flattend array:\",flattend)"
   ]
  },
  {
   "cell_type": "code",
   "execution_count": 48,
   "id": "463e30b1-cd73-4d52-979e-b8f445ad4d6c",
   "metadata": {},
   "outputs": [
    {
     "name": "stdout",
     "output_type": "stream",
     "text": [
      "Transposed array:\n",
      " [[1 3]\n",
      " [2 4]]\n"
     ]
    }
   ],
   "source": [
    "# Transpose an array:\n",
    "e1 = np.array([[1,2],[3,4]])\n",
    "transposed = np.transpose(e1)\n",
    "print(\"Transposed array:\\n\",transposed)"
   ]
  },
  {
   "cell_type": "code",
   "execution_count": 49,
   "id": "59894c7e-0cbf-405d-8f36-9ff485a97249",
   "metadata": {},
   "outputs": [
    {
     "name": "stdout",
     "output_type": "stream",
     "text": [
      "Stacked arrays:\n",
      " [[1 2]\n",
      " [3 4]]\n"
     ]
    }
   ],
   "source": [
    "# Stack arrays vertically\n",
    "a2 = np.array([1,2])\n",
    "b2 = np.array([3,4])\n",
    "stacked = np.vstack([a2, b2])\n",
    "print(\"Stacked arrays:\\n\",stacked)"
   ]
  },
  {
   "cell_type": "markdown",
   "id": "1cda82ee-351e-470c-b954-217160d734e6",
   "metadata": {},
   "source": [
    "# 3.Mathematical Functions"
   ]
  },
  {
   "cell_type": "code",
   "execution_count": 50,
   "id": "a3ce0c57-7bf3-4df0-89d8-655b570e1887",
   "metadata": {},
   "outputs": [
    {
     "name": "stdout",
     "output_type": "stream",
     "text": [
      "added 2 to g: [3 4 5 6]\n"
     ]
    }
   ],
   "source": [
    "# Add two arrays\n",
    "g = np.array([1,2,3,4])\n",
    "added = np.add(g,2)\n",
    "print(\"added 2 to g:\",added)\n"
   ]
  },
  {
   "cell_type": "code",
   "execution_count": 51,
   "id": "73bf754e-3780-453a-8dde-07515d3b4147",
   "metadata": {},
   "outputs": [
    {
     "name": "stdout",
     "output_type": "stream",
     "text": [
      "Squared g: [ 1  4  9 16]\n"
     ]
    }
   ],
   "source": [
    "# Square each element\n",
    "squared = np.power(g,2)\n",
    "print(\"Squared g:\",squared)"
   ]
  },
  {
   "cell_type": "code",
   "execution_count": 52,
   "id": "a3801bdc-5b8e-4094-9029-933d9134fb85",
   "metadata": {},
   "outputs": [
    {
     "name": "stdout",
     "output_type": "stream",
     "text": [
      "square root of g: [1.         1.41421356 1.73205081 2.        ]\n"
     ]
    }
   ],
   "source": [
    "# Square root of each element\n",
    "sqrt_val = np.sqrt(g)\n",
    "print(\"square root of g:\",sqrt_val)"
   ]
  },
  {
   "cell_type": "code",
   "execution_count": 53,
   "id": "6a17b00e-a251-4307-a965-dabe96cd4594",
   "metadata": {},
   "outputs": [
    {
     "name": "stdout",
     "output_type": "stream",
     "text": [
      "[1 2 3]\n",
      "[1 2 3 4]\n"
     ]
    }
   ],
   "source": [
    "print(a1)\n",
    "print(g)"
   ]
  },
  {
   "cell_type": "code",
   "execution_count": 54,
   "id": "f4123b68-fbe9-421d-96d3-c7fb216c1628",
   "metadata": {},
   "outputs": [
    {
     "ename": "ValueError",
     "evalue": "shapes (3,) and (4,) not aligned: 3 (dim 0) != 4 (dim 0)",
     "output_type": "error",
     "traceback": [
      "\u001b[1;31m---------------------------------------------------------------------------\u001b[0m",
      "\u001b[1;31mValueError\u001b[0m                                Traceback (most recent call last)",
      "Cell \u001b[1;32mIn[54], line 3\u001b[0m\n\u001b[0;32m      1\u001b[0m \u001b[38;5;66;03m# Dot product of two arrays\u001b[39;00m\n\u001b[0;32m      2\u001b[0m a2 \u001b[38;5;241m=\u001b[39m np\u001b[38;5;241m.\u001b[39marray([\u001b[38;5;241m1\u001b[39m,\u001b[38;5;241m2\u001b[39m,\u001b[38;5;241m3\u001b[39m])\n\u001b[1;32m----> 3\u001b[0m dot_product \u001b[38;5;241m=\u001b[39m np\u001b[38;5;241m.\u001b[39mdot(a2,g)\n\u001b[0;32m      4\u001b[0m \u001b[38;5;28mprint\u001b[39m(\u001b[38;5;124m\"\u001b[39m\u001b[38;5;124mDot product of a and g:\u001b[39m\u001b[38;5;124m\"\u001b[39m,dot_Product)\n",
      "\u001b[1;31mValueError\u001b[0m: shapes (3,) and (4,) not aligned: 3 (dim 0) != 4 (dim 0)"
     ]
    }
   ],
   "source": [
    "# Dot product of two arrays\n",
    "a2 = np.array([1,2,3])\n",
    "dot_product = np.dot(a2,g)\n",
    "print(\"Dot product of a and g:\",dot_Product)"
   ]
  },
  {
   "cell_type": "code",
   "execution_count": 55,
   "id": "0819e18a-66e4-43d1-bf74-b068c5c8e26f",
   "metadata": {},
   "outputs": [
    {
     "name": "stdout",
     "output_type": "stream",
     "text": [
      "[1 2 3]\n",
      "[1 2 3]\n"
     ]
    }
   ],
   "source": [
    "print(a)\n",
    "print(a1)"
   ]
  },
  {
   "cell_type": "code",
   "execution_count": 56,
   "id": "8b739f78-c631-4628-bbe0-9e012e163bdf",
   "metadata": {},
   "outputs": [
    {
     "name": "stdout",
     "output_type": "stream",
     "text": [
      "Dot product of a1 and a: 14\n"
     ]
    }
   ],
   "source": [
    "a3 = np.array([1,2,3,])\n",
    "dot_product = np.dot(a1, a)\n",
    "print(\"Dot product of a1 and a:\",dot_product)"
   ]
  },
  {
   "cell_type": "markdown",
   "id": "10d31722-3462-4f34-97b9-57dcf1314b79",
   "metadata": {},
   "source": [
    "# 4.Statical Functions"
   ]
  },
  {
   "cell_type": "code",
   "execution_count": 57,
   "id": "2e66ad81-b33d-4744-802f-f9edc438b294",
   "metadata": {},
   "outputs": [
    {
     "name": "stdout",
     "output_type": "stream",
     "text": [
      "mean of s: 2.5\n"
     ]
    }
   ],
   "source": [
    "s = np.array([1,2,3,4])\n",
    "mean = np.mean(s)\n",
    "print(\"mean of s:\",mean)"
   ]
  },
  {
   "cell_type": "code",
   "execution_count": 58,
   "id": "8411dc05-def0-45a3-8dca-8e01e4bbc573",
   "metadata": {},
   "outputs": [
    {
     "name": "stdout",
     "output_type": "stream",
     "text": [
      "standard deviation of s: 1.118033988749895\n"
     ]
    }
   ],
   "source": [
    "# Standard deviation of an array\n",
    "std_dev = np.std(s)\n",
    "print(\"standard deviation of s:\",std_dev)"
   ]
  },
  {
   "cell_type": "code",
   "execution_count": 59,
   "id": "d2df8a4a-6fec-427c-84c1-0c75ff653430",
   "metadata": {},
   "outputs": [
    {
     "name": "stdout",
     "output_type": "stream",
     "text": [
      "min of s: 1\n"
     ]
    }
   ],
   "source": [
    "# Minimum elment of array\n",
    "minimum = np.min(s)\n",
    "print(\"min of s:\",minimum)"
   ]
  },
  {
   "cell_type": "code",
   "execution_count": 60,
   "id": "c78be6fd-c93f-4985-9ebe-f67ab5f1d41c",
   "metadata": {},
   "outputs": [
    {
     "name": "stdout",
     "output_type": "stream",
     "text": [
      "max of s: 4\n"
     ]
    }
   ],
   "source": [
    "# Maximum element of an array\n",
    "maximum = np.max(s)\n",
    "print(\"max of s:\",maximum)"
   ]
  },
  {
   "cell_type": "markdown",
   "id": "f15d8436-11fe-403b-be64-d4985a0bf153",
   "metadata": {},
   "source": [
    "# 5.Linear Algebra Functions"
   ]
  },
  {
   "cell_type": "code",
   "execution_count": 61,
   "id": "44e9d5b3-4144-422f-a51a-d898425192f1",
   "metadata": {},
   "outputs": [],
   "source": [
    "# create a matrix \n",
    "matrix = np.array([[1,2],[3,4]])"
   ]
  },
  {
   "cell_type": "code",
   "execution_count": 62,
   "id": "84c12a19-5567-49fe-9d0b-8e9aa943e08a",
   "metadata": {},
   "outputs": [
    {
     "name": "stdout",
     "output_type": "stream",
     "text": [
      "Determinant of matrix: -2.0000000000000004\n"
     ]
    }
   ],
   "source": [
    "# Determinant of a matrix\n",
    "determinant = np.linalg.det(matrix)\n",
    "print(\"Determinant of matrix:\",determinant)"
   ]
  },
  {
   "cell_type": "code",
   "execution_count": 64,
   "id": "8f70afa0-dac8-4821-a885-f5d70322dbf8",
   "metadata": {},
   "outputs": [
    {
     "name": "stdout",
     "output_type": "stream",
     "text": [
      "Inverse of matrix:\n",
      " [[-2.   1. ]\n",
      " [ 1.5 -0.5]]\n"
     ]
    }
   ],
   "source": [
    "# Inverse of a matrix\n",
    "inverse = np.linalg.inv(matrix)\n",
    "print(\"Inverse of matrix:\\n\",inverse)"
   ]
  },
  {
   "cell_type": "markdown",
   "id": "b74066df-7032-4349-9aa4-db0017e3dd5a",
   "metadata": {},
   "source": [
    "# 6.Random Sampling Functions"
   ]
  },
  {
   "cell_type": "code",
   "execution_count": 66,
   "id": "5ba654c7-46b0-4eff-8da9-6418f16f6a8a",
   "metadata": {},
   "outputs": [
    {
     "name": "stdout",
     "output_type": "stream",
     "text": [
      "Random values: [0.8046388  0.79966832 0.45520356]\n"
     ]
    }
   ],
   "source": [
    "# Generate random values between 0 and 1\n",
    "random_vals = np.random.rand(3)\n",
    "print(\"Random values:\",random_vals)"
   ]
  },
  {
   "cell_type": "code",
   "execution_count": 67,
   "id": "45e06cde-f320-4140-b9e9-6f94d4b5bd7d",
   "metadata": {},
   "outputs": [
    {
     "name": "stdout",
     "output_type": "stream",
     "text": [
      "Random values: [0.5488135  0.71518937 0.60276338]\n"
     ]
    }
   ],
   "source": [
    "# set seed for reproducibility\n",
    "np.random.seed(0)\n",
    "# Generate random values between 0 and 1\n",
    "random_vals = np.random.rand(3)\n",
    "print(\"Random values:\",random_vals)"
   ]
  },
  {
   "cell_type": "code",
   "execution_count": 68,
   "id": "ae55fcfe-7032-402c-beae-8143d644f87c",
   "metadata": {},
   "outputs": [
    {
     "name": "stdout",
     "output_type": "stream",
     "text": [
      "Random integers: [3 7 9 3 5]\n"
     ]
    }
   ],
   "source": [
    "# Generate random integers\n",
    "rand_ints = np.random.randint(0,10,size=5)\n",
    "print(\"Random integers:\",rand_ints)"
   ]
  },
  {
   "cell_type": "code",
   "execution_count": 72,
   "id": "383d59cf-33a1-4b57-894e-33f7f1b13934",
   "metadata": {},
   "outputs": [
    {
     "name": "stdout",
     "output_type": "stream",
     "text": [
      "Random integers: [5 0 3 3 7]\n"
     ]
    }
   ],
   "source": [
    "# Set seed for reproducibility\n",
    "np.random.seed(0)\n",
    "\n",
    "# Generate random integers\n",
    "rand_ints = np.random.randint(0, 10, size=5)  # Random integers between 0 and 10\n",
    "print(\"Random integers:\", rand_ints)"
   ]
  },
  {
   "cell_type": "markdown",
   "id": "281a716b-1504-42f9-889c-9217e4f382e8",
   "metadata": {},
   "source": [
    "# 7.Boolean & Logical Functions"
   ]
  },
  {
   "cell_type": "code",
   "execution_count": 73,
   "id": "c6ec59e8-4f74-43c3-9aaa-a16840cc04aa",
   "metadata": {},
   "outputs": [
    {
     "name": "stdout",
     "output_type": "stream",
     "text": [
      "All elements True: False\n"
     ]
    }
   ],
   "source": [
    "# Check all elements are True\n",
    "# all\n",
    "logical_test = np.array([True, False, True])\n",
    "all_true = np.all(logical_test)\n",
    "print(\"All elements True:\",all_true)"
   ]
  },
  {
   "cell_type": "code",
   "execution_count": 75,
   "id": "8c6bcf90-02bb-4122-8429-d3c6703e1af5",
   "metadata": {},
   "outputs": [
    {
     "name": "stdout",
     "output_type": "stream",
     "text": [
      "All elements True: False\n"
     ]
    }
   ],
   "source": [
    "# check if all elements are true\n",
    "logical_test = np.array([False,False,False])\n",
    "all_true = np.all(logical_test)\n",
    "print(\"All elements True:\",all_true)"
   ]
  },
  {
   "cell_type": "code",
   "execution_count": 76,
   "id": "c545ceb8-2de5-46d5-9cf2-65dfeb8661cc",
   "metadata": {},
   "outputs": [
    {
     "name": "stdout",
     "output_type": "stream",
     "text": [
      "Any elements True: False\n"
     ]
    }
   ],
   "source": [
    "# Check if any elements are True\n",
    "# any \n",
    "any_true = np.any(logical_test)\n",
    "print(\"Any elements True:\",any_true)"
   ]
  },
  {
   "cell_type": "markdown",
   "id": "7c2f3f22-32cb-4a99-b3db-61aaf59f29c7",
   "metadata": {},
   "source": [
    "# 8.Set Operations"
   ]
  },
  {
   "cell_type": "code",
   "execution_count": 78,
   "id": "8ea533c5-7ad0-43c2-b98a-8ef7f63ae17a",
   "metadata": {},
   "outputs": [
    {
     "name": "stdout",
     "output_type": "stream",
     "text": [
      "Intersection of a and b: [3 4]\n"
     ]
    }
   ],
   "source": [
    "# Intersection of two arrays\n",
    "set_a = np.array([1,2,3,4])\n",
    "set_b = np.array([3,4,5,6])\n",
    "intersection = np.intersect1d(set_a,set_b)\n",
    "print(\"Intersection of a and b:\",intersection)"
   ]
  },
  {
   "cell_type": "code",
   "execution_count": 79,
   "id": "4de59084-518d-4254-8f7d-89042662980f",
   "metadata": {},
   "outputs": [
    {
     "name": "stdout",
     "output_type": "stream",
     "text": [
      "Union of a and b: [1 2 3 4 5 6]\n"
     ]
    }
   ],
   "source": [
    "# Union of two arrays\n",
    "union = np.union1d(set_a,set_b)\n",
    "print(\"Union of a and b:\",union)"
   ]
  },
  {
   "cell_type": "markdown",
   "id": "1a6a459b-9a27-4fb4-8091-65af5db5ebf8",
   "metadata": {},
   "source": [
    "# 9.Array Attribute Functions"
   ]
  },
  {
   "cell_type": "code",
   "execution_count": 83,
   "id": "74dbfd88-2604-415b-a40d-939559ee6298",
   "metadata": {},
   "outputs": [
    {
     "name": "stdout",
     "output_type": "stream",
     "text": [
      "Shape of a: (3,)\n",
      "Shape of a: 3\n",
      "Number of diamensions of a: 1\n",
      "Data type of a: int32\n"
     ]
    }
   ],
   "source": [
    "# Array attributes\n",
    "a = np.array([1,2,3])\n",
    "shape = a.shape\n",
    "size = a.size\n",
    "dimensions = a.ndim\n",
    "dtype = a.dtype\n",
    "\n",
    "print(\"Shape of a:\",shape)\n",
    "print(\"Shape of a:\",size)\n",
    "print(\"Number of diamensions of a:\",dimensions)\n",
    "print(\"Data type of a:\",dtype)"
   ]
  },
  {
   "cell_type": "markdown",
   "id": "0cddc59c-22dc-4baf-aa04-154c3aa4462b",
   "metadata": {},
   "source": [
    "# 10.Other Functions"
   ]
  },
  {
   "cell_type": "code",
   "execution_count": 84,
   "id": "84b5a04c-0a8d-418e-a6c9-311b45a00b53",
   "metadata": {},
   "outputs": [
    {
     "name": "stdout",
     "output_type": "stream",
     "text": [
      "Copied array: [1 2 3]\n"
     ]
    }
   ],
   "source": [
    "# Create a copy of an array\n",
    "a = np.array([1, 2, 3])\n",
    "copied_array = np.copy(a)  # Create a copy of array a\n",
    "print(\"Copied array:\", copied_array)"
   ]
  },
  {
   "cell_type": "code",
   "execution_count": 85,
   "id": "762ab3bf-95aa-4c64-9fd1-3af1a3274cf5",
   "metadata": {},
   "outputs": [
    {
     "name": "stdout",
     "output_type": "stream",
     "text": [
      "Size of a in bytes: 12\n"
     ]
    }
   ],
   "source": [
    "# Size in bytes of an array\n",
    "array_size_in_bytes = a.nbytes  # Size in bytes\n",
    "print(\"Size of a in bytes:\", array_size_in_bytes)"
   ]
  },
  {
   "cell_type": "code",
   "execution_count": 86,
   "id": "8ac03472-32e0-4c4f-b1d3-e22499339fed",
   "metadata": {},
   "outputs": [
    {
     "name": "stdout",
     "output_type": "stream",
     "text": [
      "Do a and copied_array share memory? False\n"
     ]
    }
   ],
   "source": [
    "# Check if two arrays share memory\n",
    "shared = np.shares_memory(a, copied_array)  # Check if arrays share memory\n",
    "print(\"Do a and copied_array share memory?\", shared)"
   ]
  },
  {
   "cell_type": "code",
   "execution_count": null,
   "id": "98e0ea60-0099-4aa5-91d3-6d3625394647",
   "metadata": {},
   "outputs": [],
   "source": []
  }
 ],
 "metadata": {
  "kernelspec": {
   "display_name": "Python [conda env:base] *",
   "language": "python",
   "name": "conda-base-py"
  },
  "language_info": {
   "codemirror_mode": {
    "name": "ipython",
    "version": 3
   },
   "file_extension": ".py",
   "mimetype": "text/x-python",
   "name": "python",
   "nbconvert_exporter": "python",
   "pygments_lexer": "ipython3",
   "version": "3.12.7"
  }
 },
 "nbformat": 4,
 "nbformat_minor": 5
}
