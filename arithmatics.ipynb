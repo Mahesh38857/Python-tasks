{
 "cells": [
  {
   "cell_type": "code",
   "execution_count": 1,
   "id": "7d66a7de-55ec-4a80-914a-c0cb92e1c7b8",
   "metadata": {},
   "outputs": [
    {
     "data": {
      "text/plain": [
       "18"
      ]
     },
     "execution_count": 1,
     "metadata": {},
     "output_type": "execute_result"
    }
   ],
   "source": [
    "9+9"
   ]
  },
  {
   "cell_type": "code",
   "execution_count": 2,
   "id": "af65be96-82ad-4d05-b896-fbf8733228c7",
   "metadata": {},
   "outputs": [
    {
     "data": {
      "text/plain": [
       "0"
      ]
     },
     "execution_count": 2,
     "metadata": {},
     "output_type": "execute_result"
    }
   ],
   "source": [
    "9-9"
   ]
  },
  {
   "cell_type": "code",
   "execution_count": 3,
   "id": "ce399ba8-34a7-4a54-88b1-c5cba6d01122",
   "metadata": {},
   "outputs": [
    {
     "data": {
      "text/plain": [
       "196"
      ]
     },
     "execution_count": 3,
     "metadata": {},
     "output_type": "execute_result"
    }
   ],
   "source": [
    "98*2"
   ]
  },
  {
   "cell_type": "code",
   "execution_count": 4,
   "id": "b2198266-f094-4331-86ac-e82b13b5186b",
   "metadata": {},
   "outputs": [
    {
     "data": {
      "text/plain": [
       "4.0"
      ]
     },
     "execution_count": 4,
     "metadata": {},
     "output_type": "execute_result"
    }
   ],
   "source": [
    "200/50"
   ]
  },
  {
   "cell_type": "code",
   "execution_count": 5,
   "id": "cc01dcf9-13f1-4ced-aa5e-3a6f589da46c",
   "metadata": {},
   "outputs": [
    {
     "data": {
      "text/plain": [
       "1"
      ]
     },
     "execution_count": 5,
     "metadata": {},
     "output_type": "execute_result"
    }
   ],
   "source": [
    "9//9"
   ]
  },
  {
   "cell_type": "code",
   "execution_count": 6,
   "id": "c6c1b9e5-0300-4aef-915c-5959f6173a72",
   "metadata": {},
   "outputs": [
    {
     "data": {
      "text/plain": [
       "1"
      ]
     },
     "execution_count": 6,
     "metadata": {},
     "output_type": "execute_result"
    }
   ],
   "source": [
    "9//8"
   ]
  },
  {
   "cell_type": "code",
   "execution_count": 7,
   "id": "29221898-f917-4f9e-8f13-d9a36680b8a1",
   "metadata": {},
   "outputs": [
    {
     "data": {
      "text/plain": [
       "27"
      ]
     },
     "execution_count": 7,
     "metadata": {},
     "output_type": "execute_result"
    }
   ],
   "source": [
    "3**3"
   ]
  },
  {
   "cell_type": "code",
   "execution_count": 9,
   "id": "ef8ec00c-ea15-41c1-a45c-ca86f0ce6346",
   "metadata": {},
   "outputs": [
    {
     "data": {
      "text/plain": [
       "1024"
      ]
     },
     "execution_count": 9,
     "metadata": {},
     "output_type": "execute_result"
    }
   ],
   "source": [
    "4**5"
   ]
  },
  {
   "cell_type": "code",
   "execution_count": 10,
   "id": "08dc0eb6-ca95-4873-b218-d88cad83b33c",
   "metadata": {},
   "outputs": [
    {
     "data": {
      "text/plain": [
       "13"
      ]
     },
     "execution_count": 10,
     "metadata": {},
     "output_type": "execute_result"
    }
   ],
   "source": [
    "(3*6)-8+3"
   ]
  },
  {
   "cell_type": "code",
   "execution_count": 11,
   "id": "61bd3b4b-14e6-441c-ae3b-e5663192746c",
   "metadata": {},
   "outputs": [
    {
     "data": {
      "text/plain": [
       "0"
      ]
     },
     "execution_count": 11,
     "metadata": {},
     "output_type": "execute_result"
    }
   ],
   "source": [
    "18%9"
   ]
  },
  {
   "cell_type": "code",
   "execution_count": 12,
   "id": "0c8b9cb0-6c71-4484-9e70-0f3dc453d876",
   "metadata": {},
   "outputs": [
    {
     "data": {
      "text/plain": [
       "8"
      ]
     },
     "execution_count": 12,
     "metadata": {},
     "output_type": "execute_result"
    }
   ],
   "source": [
    "17%9"
   ]
  },
  {
   "cell_type": "code",
   "execution_count": 13,
   "id": "7fd5e8d5-fa4e-4f9e-b3b4-0a6dea0ceccd",
   "metadata": {},
   "outputs": [
    {
     "data": {
      "text/plain": [
       "False"
      ]
     },
     "execution_count": 13,
     "metadata": {},
     "output_type": "execute_result"
    }
   ],
   "source": [
    "3>5"
   ]
  },
  {
   "cell_type": "code",
   "execution_count": 14,
   "id": "1ad78be6-40e3-4fb2-96da-85b9c300073b",
   "metadata": {},
   "outputs": [
    {
     "data": {
      "text/plain": [
       "False"
      ]
     },
     "execution_count": 14,
     "metadata": {},
     "output_type": "execute_result"
    }
   ],
   "source": [
    "8<4"
   ]
  },
  {
   "cell_type": "code",
   "execution_count": 15,
   "id": "949dd92b-d358-49f2-935a-d5d9294817d6",
   "metadata": {},
   "outputs": [
    {
     "data": {
      "text/plain": [
       "True"
      ]
     },
     "execution_count": 15,
     "metadata": {},
     "output_type": "execute_result"
    }
   ],
   "source": [
    "8>4"
   ]
  },
  {
   "cell_type": "code",
   "execution_count": 16,
   "id": "c03b8d02-8f8e-4511-86f8-d1f8c0bff673",
   "metadata": {},
   "outputs": [
    {
     "data": {
      "text/plain": [
       "False"
      ]
     },
     "execution_count": 16,
     "metadata": {},
     "output_type": "execute_result"
    }
   ],
   "source": [
    "8==4"
   ]
  },
  {
   "cell_type": "code",
   "execution_count": 20,
   "id": "52768ad5-7e6c-40d1-b8c8-406d1583dffc",
   "metadata": {},
   "outputs": [
    {
     "data": {
      "text/plain": [
       "True"
      ]
     },
     "execution_count": 20,
     "metadata": {},
     "output_type": "execute_result"
    }
   ],
   "source": [
    "3 != 5"
   ]
  },
  {
   "cell_type": "code",
   "execution_count": 21,
   "id": "a129c7bc-0a8c-4618-9992-3a6c51053d00",
   "metadata": {},
   "outputs": [
    {
     "data": {
      "text/plain": [
       "'WELCOME TO NARESH IT'"
      ]
     },
     "execution_count": 21,
     "metadata": {},
     "output_type": "execute_result"
    }
   ],
   "source": [
    "'WELCOME TO NARESH IT'"
   ]
  },
  {
   "cell_type": "code",
   "execution_count": null,
   "id": "ac1c60e4-c405-4449-8a57-cc95eb996fbb",
   "metadata": {},
   "outputs": [],
   "source": []
  },
  {
   "cell_type": "code",
   "execution_count": 22,
   "id": "9d101620-73a7-4f0c-b695-3de470c8c993",
   "metadata": {},
   "outputs": [
    {
     "data": {
      "text/plain": [
       "'WELCOME TO NARESH IT'"
      ]
     },
     "execution_count": 22,
     "metadata": {},
     "output_type": "execute_result"
    }
   ],
   "source": [
    "\"WELCOME TO NARESH IT\""
   ]
  },
  {
   "cell_type": "code",
   "execution_count": 23,
   "id": "5a2846ea-563e-41be-866e-009d3f158342",
   "metadata": {},
   "outputs": [],
   "source": [
    "M= 10"
   ]
  },
  {
   "cell_type": "code",
   "execution_count": 25,
   "id": "003a178b-896c-4837-8399-21b65349c775",
   "metadata": {},
   "outputs": [
    {
     "data": {
      "text/plain": [
       "int"
      ]
     },
     "execution_count": 25,
     "metadata": {},
     "output_type": "execute_result"
    }
   ],
   "source": [
    "type (M)"
   ]
  },
  {
   "cell_type": "code",
   "execution_count": 26,
   "id": "70027b45-bbfb-466c-9d61-6ad1958af2d8",
   "metadata": {},
   "outputs": [
    {
     "data": {
      "text/plain": [
       "float"
      ]
     },
     "execution_count": 26,
     "metadata": {},
     "output_type": "execute_result"
    }
   ],
   "source": [
    "b=10.10\n",
    "type(b)"
   ]
  },
  {
   "cell_type": "code",
   "execution_count": 33,
   "id": "28433d52-5f2b-460d-848d-1a99c0682f00",
   "metadata": {},
   "outputs": [
    {
     "data": {
      "text/plain": [
       "bool"
      ]
     },
     "execution_count": 33,
     "metadata": {},
     "output_type": "execute_result"
    }
   ],
   "source": [
    "a = 5 > 3\n",
    "type(a)"
   ]
  },
  {
   "cell_type": "code",
   "execution_count": 36,
   "id": "2a0652f1-2de5-4ee3-b477-7ead973cac6d",
   "metadata": {},
   "outputs": [],
   "source": [
    "import keyword\n"
   ]
  },
  {
   "cell_type": "code",
   "execution_count": 39,
   "id": "44107fc0-f2ee-4a48-805a-d3c0e6d90589",
   "metadata": {},
   "outputs": [
    {
     "data": {
      "text/plain": [
       "['False',\n",
       " 'None',\n",
       " 'True',\n",
       " 'and',\n",
       " 'as',\n",
       " 'assert',\n",
       " 'async',\n",
       " 'await',\n",
       " 'break',\n",
       " 'class',\n",
       " 'continue',\n",
       " 'def',\n",
       " 'del',\n",
       " 'elif',\n",
       " 'else',\n",
       " 'except',\n",
       " 'finally',\n",
       " 'for',\n",
       " 'from',\n",
       " 'global',\n",
       " 'if',\n",
       " 'import',\n",
       " 'in',\n",
       " 'is',\n",
       " 'lambda',\n",
       " 'nonlocal',\n",
       " 'not',\n",
       " 'or',\n",
       " 'pass',\n",
       " 'raise',\n",
       " 'return',\n",
       " 'try',\n",
       " 'while',\n",
       " 'with',\n",
       " 'yield']"
      ]
     },
     "execution_count": 39,
     "metadata": {},
     "output_type": "execute_result"
    }
   ],
   "source": [
    "import keyword \n",
    "keyword.kwlist"
   ]
  },
  {
   "cell_type": "code",
   "execution_count": 40,
   "id": "d68936d0-cb2f-45ee-97c4-6a8ac728ce51",
   "metadata": {},
   "outputs": [
    {
     "data": {
      "text/plain": [
       "35"
      ]
     },
     "execution_count": 40,
     "metadata": {},
     "output_type": "execute_result"
    }
   ],
   "source": [
    "len(keyword.kwlist)"
   ]
  },
  {
   "cell_type": "code",
   "execution_count": 42,
   "id": "1d631a1b-7518-490f-a028-1a0df5a589a5",
   "metadata": {},
   "outputs": [
    {
     "data": {
      "text/plain": [
       "7"
      ]
     },
     "execution_count": 42,
     "metadata": {},
     "output_type": "execute_result"
    }
   ],
   "source": [
    "m= 7 \n",
    "m"
   ]
  },
  {
   "cell_type": "code",
   "execution_count": 44,
   "id": "9b9af31d-c5f4-4350-8d2b-0f725d831d0d",
   "metadata": {},
   "outputs": [
    {
     "data": {
      "text/plain": [
       "int"
      ]
     },
     "execution_count": 44,
     "metadata": {},
     "output_type": "execute_result"
    }
   ],
   "source": [
    "type (m)"
   ]
  },
  {
   "cell_type": "code",
   "execution_count": 45,
   "id": "cc2de4fe-31f4-4326-bca6-1f8925572b90",
   "metadata": {},
   "outputs": [],
   "source": [
    "a,b = 10, 20\n"
   ]
  },
  {
   "cell_type": "code",
   "execution_count": 46,
   "id": "c2003e48-35ff-43a5-b2f1-df41598eb81e",
   "metadata": {},
   "outputs": [
    {
     "data": {
      "text/plain": [
       "-10"
      ]
     },
     "execution_count": 46,
     "metadata": {},
     "output_type": "execute_result"
    }
   ],
   "source": [
    "c=a+b\n",
    "d= a-b\n",
    "c\n",
    "d"
   ]
  },
  {
   "cell_type": "code",
   "execution_count": 47,
   "id": "b79713d4-c3de-42f1-a9fe-0b1345640486",
   "metadata": {},
   "outputs": [
    {
     "data": {
      "text/plain": [
       "30"
      ]
     },
     "execution_count": 47,
     "metadata": {},
     "output_type": "execute_result"
    }
   ],
   "source": [
    "c"
   ]
  },
  {
   "cell_type": "code",
   "execution_count": 48,
   "id": "e01ba559-8fa7-4022-b1e3-868f61daed78",
   "metadata": {},
   "outputs": [
    {
     "data": {
      "text/plain": [
       "-10"
      ]
     },
     "execution_count": 48,
     "metadata": {},
     "output_type": "execute_result"
    }
   ],
   "source": [
    "d"
   ]
  },
  {
   "cell_type": "code",
   "execution_count": 50,
   "id": "26a73433-4c78-443f-9172-467f01253fcb",
   "metadata": {},
   "outputs": [
    {
     "name": "stdout",
     "output_type": "stream",
     "text": [
      "30\n",
      "-10\n",
      "200\n",
      "0.5\n"
     ]
    }
   ],
   "source": [
    "c= a+b\n",
    "d= a-b\n",
    "e= a*b\n",
    "f= a/b\n",
    "\n",
    "print(c)\n",
    "print(d)\n",
    "print(e)\n",
    "print(f)"
   ]
  },
  {
   "cell_type": "markdown",
   "id": "338842d0-f834-475b-8ba7-6b5be419aca6",
   "metadata": {},
   "source": [
    "# 10 May\n"
   ]
  },
  {
   "cell_type": "code",
   "execution_count": 56,
   "id": "9fe1459f-4e9c-4e5e-b273-452c26e656e2",
   "metadata": {},
   "outputs": [
    {
     "data": {
      "text/plain": [
       "'nit'"
      ]
     },
     "execution_count": 56,
     "metadata": {},
     "output_type": "execute_result"
    }
   ],
   "source": [
    "m2 ='nit'\n",
    "m2"
   ]
  },
  {
   "cell_type": "code",
   "execution_count": 61,
   "id": "d8641d28-cc76-481a-929c-d337033aeb1e",
   "metadata": {},
   "outputs": [
    {
     "data": {
      "text/plain": [
       "'Hanuman'"
      ]
     },
     "execution_count": 61,
     "metadata": {},
     "output_type": "execute_result"
    }
   ],
   "source": [
    "s1=('Hanuman')\n",
    "s1"
   ]
  },
  {
   "cell_type": "code",
   "execution_count": 62,
   "id": "b9b7ca36-1dfd-462d-9133-dd0df33d88a5",
   "metadata": {},
   "outputs": [
    {
     "name": "stdout",
     "output_type": "stream",
     "text": [
      "nit\n",
      "Hanuman\n"
     ]
    }
   ],
   "source": [
    "print(m2)\n",
    "print(s1)"
   ]
  },
  {
   "cell_type": "code",
   "execution_count": 66,
   "id": "410bc091-b3ef-4cad-ace0-041cfaf140ae",
   "metadata": {},
   "outputs": [
    {
     "data": {
      "text/plain": [
       "[4]"
      ]
     },
     "execution_count": 66,
     "metadata": {},
     "output_type": "execute_result"
    }
   ],
   "source": [
    "s1[:]"
   ]
  },
  {
   "cell_type": "markdown",
   "id": "79434fe6-dd46-49c6-bb40-0f84fd0d3c4d",
   "metadata": {},
   "source": [
    "s1[1]"
   ]
  },
  {
   "cell_type": "markdown",
   "id": "848fe3fc-6f55-45c6-85e9-09f5cf09b52e",
   "metadata": {},
   "source": [
    "PYTON DATA TYPES\n"
   ]
  },
  {
   "cell_type": "code",
   "execution_count": 78,
   "id": "06d53286-ea7e-4a97-bf3e-5f0e63b64a07",
   "metadata": {},
   "outputs": [
    {
     "data": {
      "text/plain": [
       "5"
      ]
     },
     "execution_count": 78,
     "metadata": {},
     "output_type": "execute_result"
    }
   ],
   "source": [
    "i = 5 \n",
    "i"
   ]
  },
  {
   "cell_type": "code",
   "execution_count": 79,
   "id": "f9970b10-f168-48bd-a050-66c3a668e999",
   "metadata": {},
   "outputs": [
    {
     "data": {
      "text/plain": [
       "33"
      ]
     },
     "execution_count": 79,
     "metadata": {},
     "output_type": "execute_result"
    }
   ],
   "source": [
    "p = 100 \n",
    "p//3"
   ]
  },
  {
   "cell_type": "code",
   "execution_count": 80,
   "id": "ede8d822-2575-4a06-a0aa-7c5df596e0b6",
   "metadata": {},
   "outputs": [
    {
     "data": {
      "text/plain": [
       "10.0"
      ]
     },
     "execution_count": 80,
     "metadata": {},
     "output_type": "execute_result"
    }
   ],
   "source": [
    "f=10.00\n",
    "f"
   ]
  },
  {
   "cell_type": "code",
   "execution_count": 81,
   "id": "5d247eaf-5272-4a4a-a4d3-563f7f9d150a",
   "metadata": {},
   "outputs": [
    {
     "data": {
      "text/plain": [
       "float"
      ]
     },
     "execution_count": 81,
     "metadata": {},
     "output_type": "execute_result"
    }
   ],
   "source": [
    "type(f)"
   ]
  },
  {
   "cell_type": "code",
   "execution_count": 82,
   "id": "37b6d712-e1f1-4078-ac10-57e5548ce888",
   "metadata": {},
   "outputs": [
    {
     "data": {
      "text/plain": [
       "(10+20j)"
      ]
     },
     "execution_count": 82,
     "metadata": {},
     "output_type": "execute_result"
    }
   ],
   "source": [
    "c= 10+ 20j\n",
    "c"
   ]
  },
  {
   "cell_type": "code",
   "execution_count": 84,
   "id": "9fd47118-fd9f-479b-8631-edb132e12681",
   "metadata": {},
   "outputs": [
    {
     "data": {
      "text/plain": [
       "complex"
      ]
     },
     "execution_count": 84,
     "metadata": {},
     "output_type": "execute_result"
    }
   ],
   "source": [
    "type(c)"
   ]
  },
  {
   "cell_type": "code",
   "execution_count": 85,
   "id": "bdbdcf59-0703-4dc0-8a06-d5ddada404b6",
   "metadata": {},
   "outputs": [
    {
     "data": {
      "text/plain": [
       "10.0"
      ]
     },
     "execution_count": 85,
     "metadata": {},
     "output_type": "execute_result"
    }
   ],
   "source": [
    "c.real"
   ]
  },
  {
   "cell_type": "code",
   "execution_count": 86,
   "id": "6b95e571-444b-4f59-94d1-d1faa35d94e8",
   "metadata": {},
   "outputs": [
    {
     "data": {
      "text/plain": [
       "20.0"
      ]
     },
     "execution_count": 86,
     "metadata": {},
     "output_type": "execute_result"
    }
   ],
   "source": [
    "c.imag"
   ]
  },
  {
   "cell_type": "code",
   "execution_count": 87,
   "id": "0ced0aa7-8e6b-44b8-ad09-8fd88f8cfc4e",
   "metadata": {},
   "outputs": [
    {
     "data": {
      "text/plain": [
       "(5+3j)"
      ]
     },
     "execution_count": 87,
     "metadata": {},
     "output_type": "execute_result"
    }
   ],
   "source": [
    "d= 5 +3j\n",
    "d"
   ]
  },
  {
   "cell_type": "code",
   "execution_count": 88,
   "id": "e5aae795-0b87-4ab3-a08e-994d1095cf1d",
   "metadata": {},
   "outputs": [
    {
     "data": {
      "text/plain": [
       "(5+3j)"
      ]
     },
     "execution_count": 88,
     "metadata": {},
     "output_type": "execute_result"
    }
   ],
   "source": [
    "(5+3j)"
   ]
  },
  {
   "cell_type": "code",
   "execution_count": 89,
   "id": "3e80c0cc-c72a-477d-a2fb-3e2285790ecf",
   "metadata": {},
   "outputs": [
    {
     "name": "stdout",
     "output_type": "stream",
     "text": [
      "(10+20j)\n",
      "(5+3j)\n"
     ]
    }
   ],
   "source": [
    "print(c)\n",
    "print(d)"
   ]
  },
  {
   "cell_type": "code",
   "execution_count": 90,
   "id": "b5f8f2ae-4317-4cb3-be5a-08f1084282db",
   "metadata": {},
   "outputs": [
    {
     "data": {
      "text/plain": [
       "(15+23j)"
      ]
     },
     "execution_count": 90,
     "metadata": {},
     "output_type": "execute_result"
    }
   ],
   "source": [
    "c+d"
   ]
  },
  {
   "cell_type": "markdown",
   "id": "9dd16873-464c-4e50-b478-ebc81159b2c1",
   "metadata": {},
   "source": [
    "BOOLEN ( TRUE OR FALSE)\n"
   ]
  },
  {
   "cell_type": "code",
   "execution_count": 92,
   "id": "81d0ddf5-aa73-406f-9208-581a6f99a8ba",
   "metadata": {},
   "outputs": [
    {
     "data": {
      "text/plain": [
       "True"
      ]
     },
     "execution_count": 92,
     "metadata": {},
     "output_type": "execute_result"
    }
   ],
   "source": [
    "True"
   ]
  },
  {
   "cell_type": "code",
   "execution_count": 93,
   "id": "7ebef550-7c59-45ce-bc8c-6195658aeebb",
   "metadata": {},
   "outputs": [
    {
     "data": {
      "text/plain": [
       "False"
      ]
     },
     "execution_count": 93,
     "metadata": {},
     "output_type": "execute_result"
    }
   ],
   "source": [
    "False"
   ]
  },
  {
   "cell_type": "code",
   "execution_count": 94,
   "id": "5d990791-9776-41a4-b5c3-749dc1c0cdd5",
   "metadata": {},
   "outputs": [
    {
     "data": {
      "text/plain": [
       "1"
      ]
     },
     "execution_count": 94,
     "metadata": {},
     "output_type": "execute_result"
    }
   ],
   "source": [
    "True+False"
   ]
  },
  {
   "cell_type": "code",
   "execution_count": 95,
   "id": "e9f6bc79-a5f8-491e-8315-3913f1ef058f",
   "metadata": {},
   "outputs": [
    {
     "data": {
      "text/plain": [
       "0"
      ]
     },
     "execution_count": 95,
     "metadata": {},
     "output_type": "execute_result"
    }
   ],
   "source": [
    "False+False"
   ]
  },
  {
   "cell_type": "code",
   "execution_count": 96,
   "id": "bfeda278-90f2-4e6c-9cf7-367ca87a3078",
   "metadata": {},
   "outputs": [],
   "source": [
    "b= True\n",
    "b1= False"
   ]
  },
  {
   "cell_type": "code",
   "execution_count": 97,
   "id": "a2114f3e-ff2f-478f-980e-74acc7edae61",
   "metadata": {},
   "outputs": [
    {
     "name": "stdout",
     "output_type": "stream",
     "text": [
      "1\n",
      "1\n",
      "0\n",
      "0.0\n",
      "0\n"
     ]
    }
   ],
   "source": [
    "print(b+b1)\n",
    "print(b-b1)\n",
    "print(b*b1)\n",
    "print(b1/b)\n",
    "print(b1//b)\n"
   ]
  },
  {
   "cell_type": "markdown",
   "id": "8221287f-67cf-4473-b0b6-4d45a9ec5001",
   "metadata": {},
   "source": [
    "String"
   ]
  },
  {
   "cell_type": "code",
   "execution_count": 99,
   "id": "5f13ab75-b40c-4146-afc0-4b4ca1c83b8f",
   "metadata": {},
   "outputs": [
    {
     "data": {
      "text/plain": [
       "str"
      ]
     },
     "execution_count": 99,
     "metadata": {},
     "output_type": "execute_result"
    }
   ],
   "source": [
    "m='1,2,3,4,5'\n",
    "type(m)"
   ]
  },
  {
   "cell_type": "markdown",
   "id": "4210c5ea-e314-432d-9aab-fba22f391806",
   "metadata": {},
   "source": [
    "PYTHON TYPECASTING"
   ]
  },
  {
   "cell_type": "code",
   "execution_count": 101,
   "id": "8b0dcf22-8acc-44fd-bc0a-5826e599dbce",
   "metadata": {},
   "outputs": [
    {
     "data": {
      "text/plain": [
       "5"
      ]
     },
     "execution_count": 101,
     "metadata": {},
     "output_type": "execute_result"
    }
   ],
   "source": [
    "a=5\n",
    "a"
   ]
  },
  {
   "cell_type": "code",
   "execution_count": 103,
   "id": "7e196b6d-da29-4722-8265-794d1bfcb375",
   "metadata": {},
   "outputs": [
    {
     "data": {
      "text/plain": [
       "[]"
      ]
     },
     "execution_count": 103,
     "metadata": {},
     "output_type": "execute_result"
    }
   ],
   "source": [
    "l=[]\n",
    "l"
   ]
  },
  {
   "cell_type": "code",
   "execution_count": 104,
   "id": "52ab484a-2f5f-4f92-a1a5-54e0ca2e4f82",
   "metadata": {},
   "outputs": [
    {
     "data": {
      "text/plain": [
       "list"
      ]
     },
     "execution_count": 104,
     "metadata": {},
     "output_type": "execute_result"
    }
   ],
   "source": [
    "type(l)"
   ]
  },
  {
   "cell_type": "code",
   "execution_count": 18,
   "id": "503f15fc-252e-4c0f-961c-700f59c5704f",
   "metadata": {},
   "outputs": [
    {
     "data": {
      "text/plain": [
       "[10]"
      ]
     },
     "execution_count": 18,
     "metadata": {},
     "output_type": "execute_result"
    }
   ],
   "source": [
    "l=[10]\n",
    "l"
   ]
  },
  {
   "cell_type": "code",
   "execution_count": 19,
   "id": "23130e60-5b20-4605-8e03-61e5fff85551",
   "metadata": {},
   "outputs": [],
   "source": [
    "l.append(20)"
   ]
  },
  {
   "cell_type": "code",
   "execution_count": 20,
   "id": "b0377f1c-5299-488a-b5dc-a6de9281c85d",
   "metadata": {},
   "outputs": [],
   "source": [
    "l.append(30)"
   ]
  },
  {
   "cell_type": "code",
   "execution_count": 21,
   "id": "13af4fca-ec71-4d4e-8b48-93bf0c3e9912",
   "metadata": {},
   "outputs": [],
   "source": [
    "l.append(40)\n",
    "l.append(50)\n",
    "l.append(60)\n",
    "l.append(70)"
   ]
  },
  {
   "cell_type": "code",
   "execution_count": 22,
   "id": "c297b692-c56e-4a67-811c-369511b033da",
   "metadata": {},
   "outputs": [
    {
     "name": "stdout",
     "output_type": "stream",
     "text": [
      "7\n"
     ]
    }
   ],
   "source": [
    "print(len(l))"
   ]
  },
  {
   "cell_type": "code",
   "execution_count": 23,
   "id": "58703a59-f49a-430c-ac00-3ab60e8f67b9",
   "metadata": {},
   "outputs": [
    {
     "data": {
      "text/plain": [
       "[10, 20, 30, 40, 50, 60, 70]"
      ]
     },
     "execution_count": 23,
     "metadata": {},
     "output_type": "execute_result"
    }
   ],
   "source": [
    "l"
   ]
  },
  {
   "cell_type": "code",
   "execution_count": 26,
   "id": "5650f2f9-9f77-468b-b8b2-1a0136b94423",
   "metadata": {},
   "outputs": [
    {
     "data": {
      "text/plain": [
       "[]"
      ]
     },
     "execution_count": 26,
     "metadata": {},
     "output_type": "execute_result"
    }
   ],
   "source": [
    "i2=[]\n",
    "i2"
   ]
  },
  {
   "cell_type": "code",
   "execution_count": 27,
   "id": "7ae617df-4cce-4bf3-a46f-3843301e2502",
   "metadata": {},
   "outputs": [],
   "source": [
    "i2.append('nit')\n",
    "i2.append(True)\n",
    "i2.append(2.3)\n",
    "i2.append(1+2j)\n",
    "i2.append([123])"
   ]
  },
  {
   "cell_type": "code",
   "execution_count": 28,
   "id": "7d745068-934e-47f4-9378-2a3ea398e188",
   "metadata": {},
   "outputs": [
    {
     "name": "stdout",
     "output_type": "stream",
     "text": [
      "[10, 20, 30, 40, 50, 60, 70]\n",
      "['nit', True, 2.3, (1+2j), [123]]\n"
     ]
    }
   ],
   "source": [
    "print(l)\n",
    "print(i2)"
   ]
  },
  {
   "cell_type": "code",
   "execution_count": 30,
   "id": "e565dae0-04dc-42ac-8d22-bd8c65af3b67",
   "metadata": {},
   "outputs": [
    {
     "data": {
      "text/plain": [
       "list"
      ]
     },
     "execution_count": 30,
     "metadata": {},
     "output_type": "execute_result"
    }
   ],
   "source": [
    "type(i2)"
   ]
  },
  {
   "cell_type": "code",
   "execution_count": null,
   "id": "bc6e4f04-d35b-41a7-975c-a0d18b88412f",
   "metadata": {},
   "outputs": [],
   "source": []
  }
 ],
 "metadata": {
  "kernelspec": {
   "display_name": "Python 3 (ipykernel)",
   "language": "python",
   "name": "python3"
  },
  "language_info": {
   "codemirror_mode": {
    "name": "ipython",
    "version": 3
   },
   "file_extension": ".py",
   "mimetype": "text/x-python",
   "name": "python",
   "nbconvert_exporter": "python",
   "pygments_lexer": "ipython3",
   "version": "3.12.7"
  }
 },
 "nbformat": 4,
 "nbformat_minor": 5
}
